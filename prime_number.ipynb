number = int(input("Please enter a number : "))
for i in range(2,number+1):
    if number%i==0:
        print(number,"is not a prime number")
        break
else:
    print(number,"is a prime number")
