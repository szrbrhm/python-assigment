{
  "nbformat": 4,
  "nbformat_minor": 0,
  "metadata": {
    "colab": {
      "name": "koşul sorusu.ipynb",
      "provenance": [],
      "collapsed_sections": []
    },
    "kernelspec": {
      "name": "python3",
      "display_name": "Python 3"
    },
    "language_info": {
      "name": "python"
    }
  },
  "cells": [
    {
      "cell_type": "code",
      "metadata": {
        "id": "t3oQ1olfrOa6"
      },
      "source": [
        "Takes the first name from the user and compares it to yours,\n",
        "Then if the name the user entered is the same as yours, print out such as : \"Hello, Joseph! The password is : W@12\",\n",
        "If the name the user entered is not the same as yours, print out such as : \"Hello, Amina! See you later.\"\n",
        "\n"
      ],
      "execution_count": null,
      "outputs": []
    },
    {
      "cell_type": "code",
      "metadata": {
        "colab": {
          "base_uri": "https://localhost:8080/"
        },
        "id": "QS-JEFn7sTvY",
        "outputId": "e16da4c7-ce50-4f0b-ae30-5f149bb5d9c6"
      },
      "source": [
        "users = 'kapadokya'\n",
        "user = str(input(\"Kullanıcı adını giriniz :\"))\n",
        "if user == users :\n",
        "  print(\"Hello, Kapadokya! The password is : W@12\",)\n",
        "else:\n",
        "  print(\"Hello, Amina! See you later.\")\n"
      ],
      "execution_count": 6,
      "outputs": [
        {
          "output_type": "stream",
          "text": [
            "Kullanıcı adını giriniz :ali\n",
            "Hello, Amina! See you later.\n"
          ],
          "name": "stdout"
        }
      ]
    },
    {
      "cell_type": "code",
      "metadata": {
        "id": "MzZ67blptAie"
      },
      "source": [
        ""
      ],
      "execution_count": null,
      "outputs": []
    }
  ]
}